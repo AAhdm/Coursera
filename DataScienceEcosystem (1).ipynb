{
 "cells": [
  {
   "cell_type": "markdown",
   "id": "ea5d5fa4",
   "metadata": {},
   "source": [
    "# Data Science Tools and Ecosystem"
   ]
  },
  {
   "cell_type": "markdown",
   "id": "e46ff8c1",
   "metadata": {},
   "source": [
    "In This Notebook, Data Science Tools and Ecosystem are summarized."
   ]
  },
  {
   "cell_type": "markdown",
   "id": "d692b15e",
   "metadata": {},
   "source": [
    "**Objectives :**\n",
    "- First Using H1 and H3 Style Heading\n",
    "- Second listing popular languages for data science \n",
    "- Third Listing three development enviroment open source tools used for data science"
   ]
  },
  {
   "cell_type": "markdown",
   "id": "b293820f",
   "metadata": {},
   "source": [
    "Some of the popular languages that data scientist use are:\n",
    "1. First Python\n",
    "2. Second R\n",
    "3. Third Java \n",
    "4. Fourth Scala"
   ]
  },
  {
   "cell_type": "markdown",
   "id": "6fffdb92",
   "metadata": {},
   "source": [
    "Some of the commonly used libraries by Data Scientist include:\n",
    "1. First Tensorflow\n",
    "2. Second Numpy\n",
    "3. Third SciPy\n",
    "4. Fourth Pandas "
   ]
  },
  {
   "cell_type": "markdown",
   "id": "c224964d",
   "metadata": {},
   "source": [
    "| Data Science Tools |\n",
    "| ------------------ |\n",
    "| Git |\n",
    "| Apache Subversion |\n",
    "| Eclipse IDE |"
   ]
  },
  {
   "cell_type": "markdown",
   "id": "ddd147eb",
   "metadata": {},
   "source": [
    "### Below are a few examples of evaluating arithmetic expressions in python"
   ]
  },
  {
   "cell_type": "code",
   "execution_count": 1,
   "id": "c3e49bea",
   "metadata": {},
   "outputs": [
    {
     "data": {
      "text/plain": [
       "17"
      ]
     },
     "execution_count": 1,
     "metadata": {},
     "output_type": "execute_result"
    }
   ],
   "source": [
    "# This is a simple arithmetic expression to multiply and then add integers\n",
    "(3*4)+5"
   ]
  },
  {
   "cell_type": "code",
   "execution_count": 3,
   "id": "8dd01e77",
   "metadata": {},
   "outputs": [
    {
     "name": "stdout",
     "output_type": "stream",
     "text": [
      "200 minutes is equal to  3.3333333333333335 Hours\n"
     ]
    }
   ],
   "source": [
    "# the following line of code will convert minutes to hours by dividing any number of minutes by 60\n",
    "A= 200/60\n",
    "print(\"200 minutes is equal to \", A, \"Hours\")"
   ]
  },
  {
   "cell_type": "markdown",
   "id": "a4ff7ce0",
   "metadata": {},
   "source": [
    "## Author \n",
    "Adam Hamadi"
   ]
  },
  {
   "cell_type": "code",
   "execution_count": null,
   "id": "5dbc3bc3",
   "metadata": {},
   "outputs": [],
   "source": []
  }
 ],
 "metadata": {
  "kernelspec": {
   "display_name": "Python 3 (ipykernel)",
   "language": "python",
   "name": "python3"
  },
  "language_info": {
   "codemirror_mode": {
    "name": "ipython",
    "version": 3
   },
   "file_extension": ".py",
   "mimetype": "text/x-python",
   "name": "python",
   "nbconvert_exporter": "python",
   "pygments_lexer": "ipython3",
   "version": "3.11.3"
  }
 },
 "nbformat": 4,
 "nbformat_minor": 5
}
